{
 "cells": [
  {
   "cell_type": "code",
   "execution_count": 2,
   "metadata": {
    "collapsed": true
   },
   "outputs": [],
   "source": [
    "from scipy.io import mmread\n",
    "from scipy.sparse import csr_matrix, coo_matrix\n",
    "import numpy as np\n",
    "import os\n",
    "import csv\n",
    "from match_tools import *\n",
    "from matching import *"
   ]
  },
  {
   "cell_type": "code",
   "execution_count": 3,
   "metadata": {},
   "outputs": [
    {
     "output_type": "stream",
     "name": "stdout",
     "text": "The size of maximum cardinality matching on graphs/poli.mtx is 792.0\nThe size of maximum cardinality matching on graphs/lp_e226.mtx is 200.0\nThe size of maximum cardinality matching on graphs/bcspwr10.mtx is 2576.0\nThe size of maximum cardinality matching on graphs/bcsstm26.mtx is 0.0\nThe size of maximum cardinality matching on graphs/msc01440.mtx is 720.0\nThe size of maximum cardinality matching on graphs/G17.mtx is 400.0\nThe size of maximum cardinality matching on graphs/G15.mtx is 400.0\nThe size of maximum cardinality matching on graphs/bcspwr01.mtx is 17.0\nThe size of maximum cardinality matching on graphs/mark3jac020sc.mtx is 4564.0\nThe size of maximum cardinality matching on graphs/bayer04.mtx is 10272.0\nThe size of maximum cardinality matching on graphs/dwt_198.mtx is 99.0\nThe size of maximum cardinality matching on graphs/bcsstk05.mtx is 76.0\nThe size of maximum cardinality matching on graphs/lshp_406.mtx is 203.0\nThe size of maximum cardinality matching on graphs/bcsstm02.mtx is 0.0\nThe size of maximum cardinality matching on graphs/bcsstm01.mtx is 0.0\nThe size of maximum cardinality matching on graphs/can_62.mtx is 29.0\nThe size of maximum cardinality matching on graphs/662_bus.mtx is 306.0\nThe size of maximum cardinality matching on graphs/dwt_72.mtx is 32.0\nThe size of maximum cardinality matching on graphs/b2_ss.mtx is 544.0\nThe size of maximum cardinality matching on graphs/sphere3.mtx is 129.0\nThe size of maximum cardinality matching on graphs/dwt_2680.mtx is 1340.0\n"
    }
   ],
   "source": [
    "file_paths = get_file_paths()\n",
    "for file_path in file_paths:\n",
    "    mtx = mmread(file_path)\n",
    "    G = from_mtx(mtx)\n",
    "    mate = find_max_matching(G)\n",
    "    print(f'The size of maximum cardinality matching on {file_path} is {card_matching(mate)}')"
   ]
  },
  {
   "cell_type": "code",
   "execution_count": 7,
   "metadata": {
    "collapsed": true
   },
   "outputs": [
    {
     "output_type": "stream",
     "name": "stdout",
     "text": "num_edge/num_vertex of graphs/poli.mtx is 2.055389221556886\nnum_edge/num_vertex of graphs/lp_e226.mtx is 11.716101694915254\nnum_edge/num_vertex of graphs/bcspwr10.mtx is 3.121132075471698\nnum_edge/num_vertex of graphs/bcsstm26.mtx is 0.0\nnum_edge/num_vertex of graphs/msc01440.mtx is 31.131944444444443\nnum_edge/num_vertex of graphs/G17.mtx is 11.6675\nnum_edge/num_vertex of graphs/G15.mtx is 11.6525\nnum_edge/num_vertex of graphs/bcspwr01.mtx is 2.358974358974359\nnum_edge/num_vertex of graphs/mark3jac020sc.mtx is 9.927483842699091\nnum_edge/num_vertex of graphs/bayer04.mtx is 15.473935264054514\nnum_edge/num_vertex of graphs/dwt_198.mtx is 6.03030303030303\nnum_edge/num_vertex of graphs/bcsstk05.mtx is 14.836601307189543\nnum_edge/num_vertex of graphs/lshp_406.mtx is 5.689655172413793\nnum_edge/num_vertex of graphs/bcsstm02.mtx is 0.0\nnum_edge/num_vertex of graphs/bcsstm01.mtx is 0.0\nnum_edge/num_vertex of graphs/can_62.mtx is 2.5161290322580645\nnum_edge/num_vertex of graphs/662_bus.mtx is 2.7371601208459215\nnum_edge/num_vertex of graphs/dwt_72.mtx is 2.0833333333333335\nnum_edge/num_vertex of graphs/b2_ss.mtx is 7.704315886134068\nnum_edge/num_vertex of graphs/sphere3.mtx is 5.953488372093023\nnum_edge/num_vertex of graphs/dwt_2680.mtx is 8.338059701492538\n"
    }
   ],
   "source": [
    "file_paths = get_file_paths()\n",
    "for file_path in file_paths:\n",
    "    mtx = mmread(file_path)\n",
    "    G = from_mtx(mtx)\n",
    "    num_vertex = len(G)\n",
    "    num_egde = 0\n",
    "    for v in G:\n",
    "        num_egde += len(G[v])\n",
    "    \n",
    "    print(f'num_edge/num_vertex of {file_path} is {num_egde * 1.0 / num_vertex}')"
   ]
  }
 ],
 "metadata": {
  "kernelspec": {
   "display_name": "Python 3",
   "language": "python",
   "name": "python3"
  },
  "language_info": {
   "codemirror_mode": {
    "name": "ipython",
    "version": 3
   },
   "file_extension": ".py",
   "mimetype": "text/x-python",
   "name": "python",
   "nbconvert_exporter": "python",
   "pygments_lexer": "ipython3",
   "version": "3.6.2-final"
  }
 },
 "nbformat": 4,
 "nbformat_minor": 2
}