{
 "cells": [
  {
   "cell_type": "code",
   "execution_count": 25,
   "metadata": {
    "collapsed": true
   },
   "outputs": [],
   "source": [
    "from scipy.io import mmread\n",
    "from scipy.sparse import csr_matrix, coo_matrix\n",
    "import numpy as np\n",
    "import csv\n",
    "from match_tools import *\n",
    "from matching import *"
   ]
  },
  {
   "cell_type": "code",
   "execution_count": 3,
   "metadata": {},
   "outputs": [
    {
     "output_type": "stream",
     "name": "stdout",
     "text": "The size of maximum cardinality matching on graphs/poli.mtx is 792.0\nThe size of maximum cardinality matching on graphs/lp_e226.mtx is 200.0\nThe size of maximum cardinality matching on graphs/bcspwr10.mtx is 2576.0\nThe size of maximum cardinality matching on graphs/bcsstm26.mtx is 0.0\nThe size of maximum cardinality matching on graphs/msc01440.mtx is 720.0\nThe size of maximum cardinality matching on graphs/G17.mtx is 400.0\nThe size of maximum cardinality matching on graphs/G15.mtx is 400.0\nThe size of maximum cardinality matching on graphs/bcspwr01.mtx is 17.0\nThe size of maximum cardinality matching on graphs/mark3jac020sc.mtx is 4564.0\nThe size of maximum cardinality matching on graphs/bayer04.mtx is 10272.0\nThe size of maximum cardinality matching on graphs/dwt_198.mtx is 99.0\nThe size of maximum cardinality matching on graphs/bcsstk05.mtx is 76.0\nThe size of maximum cardinality matching on graphs/lshp_406.mtx is 203.0\nThe size of maximum cardinality matching on graphs/bcsstm02.mtx is 0.0\nThe size of maximum cardinality matching on graphs/bcsstm01.mtx is 0.0\nThe size of maximum cardinality matching on graphs/can_62.mtx is 29.0\nThe size of maximum cardinality matching on graphs/662_bus.mtx is 306.0\nThe size of maximum cardinality matching on graphs/dwt_72.mtx is 32.0\nThe size of maximum cardinality matching on graphs/b2_ss.mtx is 544.0\nThe size of maximum cardinality matching on graphs/sphere3.mtx is 129.0\nThe size of maximum cardinality matching on graphs/dwt_2680.mtx is 1340.0\n"
    }
   ],
   "source": [
    "file_paths = get_file_paths()\n",
    "for file_path in file_paths:\n",
    "    mtx = mmread(file_path)\n",
    "    G = from_mtx(mtx)\n",
    "    mate = find_max_matching(G)\n",
    "    print(f'The size of maximum cardinality matching on {file_path} is {card_matching(mate)}')"
   ]
  },
  {
   "cell_type": "code",
   "execution_count": 26,
   "metadata": {},
   "outputs": [
    {
     "output_type": "error",
     "ename": "ImportError",
     "evalue": "cannot import name 'num_edge'",
     "traceback": [
      "\u001b[0;31m---------------------------------------------------------------------------\u001b[0m",
      "\u001b[0;31mImportError\u001b[0m                               Traceback (most recent call last)",
      "\u001b[0;32m<ipython-input-26-5ab48ef81a53>\u001b[0m in \u001b[0;36m<module>\u001b[0;34m()\u001b[0m\n\u001b[0;32m----> 1\u001b[0;31m \u001b[0;32mfrom\u001b[0m \u001b[0mmatch_tools\u001b[0m \u001b[0;32mimport\u001b[0m \u001b[0mnum_edge\u001b[0m\u001b[0;34m\u001b[0m\u001b[0m\n\u001b[0m\u001b[1;32m      2\u001b[0m \u001b[0mfile_paths\u001b[0m \u001b[0;34m=\u001b[0m \u001b[0mget_file_paths\u001b[0m\u001b[0;34m(\u001b[0m\u001b[0;34m)\u001b[0m\u001b[0;34m\u001b[0m\u001b[0m\n\u001b[1;32m      3\u001b[0m \u001b[0;32mfor\u001b[0m \u001b[0mfile_path\u001b[0m \u001b[0;32min\u001b[0m \u001b[0mfile_paths\u001b[0m\u001b[0;34m:\u001b[0m\u001b[0;34m\u001b[0m\u001b[0m\n\u001b[1;32m      4\u001b[0m     \u001b[0mmtx\u001b[0m \u001b[0;34m=\u001b[0m \u001b[0mmmread\u001b[0m\u001b[0;34m(\u001b[0m\u001b[0mfile_path\u001b[0m\u001b[0;34m)\u001b[0m\u001b[0;34m\u001b[0m\u001b[0m\n\u001b[1;32m      5\u001b[0m     \u001b[0mG\u001b[0m \u001b[0;34m=\u001b[0m \u001b[0mfrom_mtx\u001b[0m\u001b[0;34m(\u001b[0m\u001b[0mmtx\u001b[0m\u001b[0;34m)\u001b[0m\u001b[0;34m\u001b[0m\u001b[0m\n",
      "\u001b[0;31mImportError\u001b[0m: cannot import name 'num_edge'"
     ]
    }
   ],
   "source": [
    "from match_tools import num_edge\n",
    "file_paths = get_file_paths()\n",
    "for file_path in file_paths:\n",
    "    mtx = mmread(file_path)\n",
    "    G = from_mtx(mtx)\n",
    "    num = num_edge(G)\n",
    "    print(f'edge / vertices of {file_path} is {num/len(G)}')"
   ]
  },
  {
   "cell_type": "code",
   "execution_count": 22,
   "metadata": {},
   "outputs": [
    {
     "output_type": "error",
     "ename": "NameError",
     "evalue": "name 'num_edge' is not defined",
     "traceback": [
      "\u001b[0;31m---------------------------------------------------------------------------\u001b[0m",
      "\u001b[0;31mNameError\u001b[0m                                 Traceback (most recent call last)",
      "\u001b[0;32m<ipython-input-22-45d0d8408aca>\u001b[0m in \u001b[0;36m<module>\u001b[0;34m()\u001b[0m\n\u001b[0;32m----> 1\u001b[0;31m \u001b[0mnum_edge\u001b[0m\u001b[0;34m(\u001b[0m\u001b[0mG\u001b[0m\u001b[0;34m)\u001b[0m\u001b[0;34m\u001b[0m\u001b[0m\n\u001b[0m",
      "\u001b[0;31mNameError\u001b[0m: name 'num_edge' is not defined"
     ]
    }
   ],
   "source": [
    "num_edge(G)"
   ]
  },
  {
   "cell_type": "code",
   "execution_count": null,
   "metadata": {},
   "outputs": [],
   "source": []
  }
 ],
 "metadata": {
  "kernelspec": {
   "display_name": "Python 3",
   "language": "python",
   "name": "python3"
  },
  "language_info": {
   "codemirror_mode": {
    "name": "ipython",
    "version": 3
   },
   "file_extension": ".py",
   "mimetype": "text/x-python",
   "name": "python",
   "nbconvert_exporter": "python",
   "pygments_lexer": "ipython3",
   "version": "3.6.2-final"
  }
 },
 "nbformat": 4,
 "nbformat_minor": 2
}